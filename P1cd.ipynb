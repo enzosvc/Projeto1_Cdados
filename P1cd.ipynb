{
 "cells": [
  {
   "cell_type": "markdown",
   "metadata": {},
   "source": [
    "# Projeto 1 - Ciência dos Dados"
   ]
  },
  {
   "cell_type": "markdown",
   "metadata": {},
   "source": [
    "Nome: _____\n",
    "\n",
    "Nome: _____"
   ]
  },
  {
   "cell_type": "markdown",
   "metadata": {},
   "source": [
    "Atenção: Serão permitidos grupos de três pessoas, mas com uma rubrica mais exigente. Grupos deste tamanho precisarão fazer um questionário de avaliação de trabalho em equipe"
   ]
  },
  {
   "cell_type": "markdown",
   "metadata": {},
   "source": [
    "___\n",
    "Carregando algumas bibliotecas:"
   ]
  },
  {
   "cell_type": "code",
   "execution_count": 37,
   "metadata": {},
   "outputs": [],
   "source": [
    "%matplotlib inline\n",
    "import pandas as pd\n",
    "import matplotlib.pyplot as plt\n",
    "import numpy as np\n",
    "import os\n",
    "from IPython.display import display"
   ]
  },
  {
   "cell_type": "code",
   "execution_count": 38,
   "metadata": {
    "scrolled": false
   },
   "outputs": [
    {
     "name": "stdout",
     "output_type": "stream",
     "text": [
      "Esperamos trabalhar no diretório\n",
      "/Users/enzo_cunha/Desktop/Projeto1_Cdados\n"
     ]
    }
   ],
   "source": [
    "print('Esperamos trabalhar no diretório')\n",
    "print(os.getcwd())"
   ]
  },
  {
   "cell_type": "markdown",
   "metadata": {},
   "source": [
    "Carregando a base de dados com os tweets classificados como relevantes e não relevantes:"
   ]
  },
  {
   "cell_type": "code",
   "execution_count": 39,
   "metadata": {},
   "outputs": [],
   "source": [
    "filename = 'Fifa 21_correto 2.xlsx'"
   ]
  },
  {
   "cell_type": "code",
   "execution_count": 40,
   "metadata": {},
   "outputs": [
    {
     "data": {
      "text/html": [
       "<div>\n",
       "<style scoped>\n",
       "    .dataframe tbody tr th:only-of-type {\n",
       "        vertical-align: middle;\n",
       "    }\n",
       "\n",
       "    .dataframe tbody tr th {\n",
       "        vertical-align: top;\n",
       "    }\n",
       "\n",
       "    .dataframe thead th {\n",
       "        text-align: right;\n",
       "    }\n",
       "</style>\n",
       "<table border=\"1\" class=\"dataframe\">\n",
       "  <thead>\n",
       "    <tr style=\"text-align: right;\">\n",
       "      <th></th>\n",
       "      <th>Treinamento</th>\n",
       "      <th>RELEVÂNCIA</th>\n",
       "    </tr>\n",
       "  </thead>\n",
       "  <tbody>\n",
       "    <tr>\n",
       "      <th>0</th>\n",
       "      <td>fifa 21 - tutorial face i benjamín kuscevic (p...</td>\n",
       "      <td>0</td>\n",
       "    </tr>\n",
       "    <tr>\n",
       "      <th>1</th>\n",
       "      <td>o fifa 21 do nintendo switch é uma delícia de ...</td>\n",
       "      <td>1</td>\n",
       "    </tr>\n",
       "    <tr>\n",
       "      <th>2</th>\n",
       "      <td>não tô entendendo que o fifa 21 tá bugando tod...</td>\n",
       "      <td>1</td>\n",
       "    </tr>\n",
       "    <tr>\n",
       "      <th>3</th>\n",
       "      <td>🇵🇹cristiano ronaldo🇵🇹 premium sbc\\n\\né para fa...</td>\n",
       "      <td>0</td>\n",
       "    </tr>\n",
       "    <tr>\n",
       "      <th>4</th>\n",
       "      <td>vídeo novo ...\\ncomo deixar fifa 21 com elenco...</td>\n",
       "      <td>0</td>\n",
       "    </tr>\n",
       "  </tbody>\n",
       "</table>\n",
       "</div>"
      ],
      "text/plain": [
       "                                         Treinamento  RELEVÂNCIA\n",
       "0  fifa 21 - tutorial face i benjamín kuscevic (p...           0\n",
       "1  o fifa 21 do nintendo switch é uma delícia de ...           1\n",
       "2  não tô entendendo que o fifa 21 tá bugando tod...           1\n",
       "3  🇵🇹cristiano ronaldo🇵🇹 premium sbc\\n\\né para fa...           0\n",
       "4  vídeo novo ...\\ncomo deixar fifa 21 com elenco...           0"
      ]
     },
     "execution_count": 40,
     "metadata": {},
     "output_type": "execute_result"
    }
   ],
   "source": [
    "train = pd.read_excel(filename)\n",
    "train.head(5)"
   ]
  },
  {
   "cell_type": "code",
   "execution_count": 41,
   "metadata": {},
   "outputs": [
    {
     "data": {
      "text/html": [
       "<div>\n",
       "<style scoped>\n",
       "    .dataframe tbody tr th:only-of-type {\n",
       "        vertical-align: middle;\n",
       "    }\n",
       "\n",
       "    .dataframe tbody tr th {\n",
       "        vertical-align: top;\n",
       "    }\n",
       "\n",
       "    .dataframe thead th {\n",
       "        text-align: right;\n",
       "    }\n",
       "</style>\n",
       "<table border=\"1\" class=\"dataframe\">\n",
       "  <thead>\n",
       "    <tr style=\"text-align: right;\">\n",
       "      <th></th>\n",
       "      <th>Teste</th>\n",
       "      <th>RELEVÂNCIA</th>\n",
       "    </tr>\n",
       "  </thead>\n",
       "  <tbody>\n",
       "    <tr>\n",
       "      <th>195</th>\n",
       "      <td>@chxzychxz fifa 21 e mortal kombat moça</td>\n",
       "      <td>0</td>\n",
       "    </tr>\n",
       "    <tr>\n",
       "      <th>196</th>\n",
       "      <td>@brazuka_ e o fifa 21 fica como? vai ter mais ...</td>\n",
       "      <td>1</td>\n",
       "    </tr>\n",
       "    <tr>\n",
       "      <th>197</th>\n",
       "      <td>confira minha transmissão do meu playstation 4...</td>\n",
       "      <td>0</td>\n",
       "    </tr>\n",
       "    <tr>\n",
       "      <th>198</th>\n",
       "      <td>@overbeckgaming @chocoozlima_12 eu lembro diss...</td>\n",
       "      <td>0</td>\n",
       "    </tr>\n",
       "    <tr>\n",
       "      <th>199</th>\n",
       "      <td>@fifatradebrasil eu preciso de algum ps pra jo...</td>\n",
       "      <td>1</td>\n",
       "    </tr>\n",
       "  </tbody>\n",
       "</table>\n",
       "</div>"
      ],
      "text/plain": [
       "                                                 Teste  RELEVÂNCIA\n",
       "195            @chxzychxz fifa 21 e mortal kombat moça           0\n",
       "196  @brazuka_ e o fifa 21 fica como? vai ter mais ...           1\n",
       "197  confira minha transmissão do meu playstation 4...           0\n",
       "198  @overbeckgaming @chocoozlima_12 eu lembro diss...           0\n",
       "199  @fifatradebrasil eu preciso de algum ps pra jo...           1"
      ]
     },
     "execution_count": 41,
     "metadata": {},
     "output_type": "execute_result"
    }
   ],
   "source": [
    "test = pd.read_excel(filename, sheet_name = 'Teste')\n",
    "test.tail(5)"
   ]
  },
  {
   "cell_type": "code",
   "execution_count": 42,
   "metadata": {},
   "outputs": [],
   "source": [
    " # '[!-.:?;=/[]*]' # Note que os sinais [] são delimitadores de um conjunto.\n",
    "import re \n",
    "\n",
    "\n",
    "def cleanup(text):\n",
    "    \"\"\"\n",
    "        Função de limpeza muito simples que troca alguns sinais básicos por espaços\n",
    "    \"\"\"\n",
    "    #import string\n",
    "    punctuation = '[!-.:?;]' # Note que os sinais [] são delimitadores de um conjunto.\n",
    "    pattern = re.compile(punctuation)\n",
    "    text_subbed = re.sub(pattern, '', text)\n",
    "    return text_subbed"
   ]
  },
  {
   "cell_type": "code",
   "execution_count": 43,
   "metadata": {},
   "outputs": [],
   "source": [
    "lista_palavras_tweet=[]\n",
    "lista_p_relevantes=[]\n",
    "lista_p_irrelevantes=[]"
   ]
  },
  {
   "cell_type": "code",
   "execution_count": 44,
   "metadata": {},
   "outputs": [],
   "source": [
    "#separando os relevantes:\n",
    "relevantes=train.loc[:,\"RELEVÂNCIA\"]==1\n",
    "tweets_relevantes=train.loc[relevantes]\n",
    "\n",
    "#limpando:\n",
    "for tweet in tweets_relevantes[\"Treinamento\"]:\n",
    "    limpo=cleanup(tweet)\n",
    "    limpo=limpo.strip()\n",
    "    limpo=limpo.lower()\n",
    "    lista_palavras_tweet=limpo.split()\n",
    "    for i in lista_palavras_tweet:\n",
    "        lista_p_relevantes.append(i)\n",
    "###IMPLEMENTANDO LIMPEZA DE STOPWORDS###\n",
    "lista_stopwords=['e','do','é','o','a','as','na','no','de','da',]\n",
    "for e in lista_p_relevantes:\n",
    "    if e in lista_stopwords:\n",
    "        lista_p_relevantes.remove(e)"
   ]
  },
  {
   "cell_type": "code",
   "execution_count": 45,
   "metadata": {},
   "outputs": [],
   "source": [
    "lista_palavras_tweet=[]\n",
    "#separando os irrelevantes:\n",
    "irrelevantes=train.loc[:,\"RELEVÂNCIA\"]==0\n",
    "tweets_irrelevantes=train.loc[irrelevantes]\n",
    "\n",
    "#limpando:\n",
    "for tweet in tweets_irrelevantes[\"Treinamento\"]:\n",
    "    limpo=cleanup(tweet)\n",
    "    limpo=limpo.strip()\n",
    "    limpo=limpo.lower()\n",
    "    lista_palavras_tweet=limpo.split()\n",
    "    for i in lista_palavras_tweet:\n",
    "        lista_p_irrelevantes.append(i)\n",
    "###IMPLEMENTANDO LIMPEZA DE STOPWORDS###\n",
    "lista_stopwords=['e','do','é','o','a','as','na','no','de','da',]\n",
    "for e in lista_p_irrelevantes:\n",
    "    if e in lista_stopwords:\n",
    "        lista_p_irrelevantes.remove(e)\n",
    "\n"
   ]
  },
  {
   "cell_type": "code",
   "execution_count": 46,
   "metadata": {},
   "outputs": [],
   "source": [
    "lista_palavras_tweet=[]\n",
    "lista_p=[]\n",
    "for tweet in train[\"Treinamento\"]:\n",
    "    limpo=cleanup(tweet)\n",
    "    limpo=limpo.strip()\n",
    "    limpo=limpo.lower()\n",
    "    lista_palavras_tweet=limpo.split()\n",
    "    for i in lista_palavras_tweet:\n",
    "        lista_p.append(i)\n",
    "###IMPLEMENTANDO LIMPEZA DE STOPWORDS###\n",
    "lista_stopwords=['e','do','é','o','a','as','na','no','de','da',]\n",
    "for e in lista_p:\n",
    "    if e in lista_stopwords:\n",
    "        lista_p.remove(e)"
   ]
  },
  {
   "cell_type": "markdown",
   "metadata": {},
   "source": [
    "___\n",
    "## Classificador automático de sentimento\n"
   ]
  },
  {
   "cell_type": "markdown",
   "metadata": {},
   "source": [
    "Faça aqui uma descrição do seu produto e o que considerou como relevante ou não relevante na classificação dos tweets.\n",
    "\n",
    "ESCREVA AQUI...\n",
    "\n",
    "O nosso produto, chamado de FIFA 21, é um jogo de videogame apenas sobre futebol. Nele, o usuário joga diferentes partidas controlando os jogadores e possui apenas um objetivo: ganhar do seu adversário. Ao analisarmos os tweets sobre o #FIFA21, classificamos como relevante(1) as mensagens que possuiam um dos critérios a seguir:\n",
    "\n",
    "•Crítica sobre algum elemento do jogo (seja sobre a jogabilidade ou até sobre as músicas presentes no FIFA21) \n",
    "\n",
    "•Relato sobre a frequência em que joga o FIFA 21 \n",
    "\n",
    "• Opiniões sobre preços relacionados ao FIFA21 (seja para comprar o jogo, ou expansõoes dentro dele)\n",
    "\n",
    "caso contrário, o tweet era irrelevante(0)\n",
    "\n"
   ]
  },
  {
   "cell_type": "markdown",
   "metadata": {},
   "source": [
    "___\n",
    "### Montando um Classificador Naive-Bayes\n",
    "\n",
    "Considerando apenas as mensagens da planilha Treinamento, ensine  seu classificador."
   ]
  },
  {
   "cell_type": "code",
   "execution_count": 47,
   "metadata": {},
   "outputs": [
    {
     "data": {
      "text/plain": [
       "fifa           0.065999\n",
       "21             0.054213\n",
       "que            0.027107\n",
       "não            0.014143\n",
       "pra            0.013553\n",
       "                 ...   \n",
       "massa          0.000589\n",
       "convicção      0.000589\n",
       "lewandowski    0.000589\n",
       "odeia          0.000589\n",
       "fiz            0.000589\n",
       "Length: 822, dtype: float64"
      ]
     },
     "execution_count": 47,
     "metadata": {},
     "output_type": "execute_result"
    }
   ],
   "source": [
    "#RELEVANTES\n",
    "serie_relevantes = pd.Series(lista_p_relevantes)\n",
    "tabela_relevantes = serie_relevantes.value_counts(True)\n",
    "tabela_relevantes"
   ]
  },
  {
   "cell_type": "code",
   "execution_count": 48,
   "metadata": {},
   "outputs": [
    {
     "data": {
      "text/plain": [
       "fifa                     0.064618\n",
       "21                       0.056289\n",
       "live                     0.015508\n",
       "que                      0.015508\n",
       "minha                    0.013211\n",
       "                           ...   \n",
       "treinamentos             0.000287\n",
       "cuiabá                   0.000287\n",
       "⏳                        0.000287\n",
       "https//tco/ywmgdqrefv    0.000287\n",
       "25                       0.000287\n",
       "Length: 1445, dtype: float64"
      ]
     },
     "execution_count": 48,
     "metadata": {},
     "output_type": "execute_result"
    }
   ],
   "source": [
    "#IRRELEVANTES:\n",
    "serie_irrelevantes = pd.Series(lista_p_irrelevantes)\n",
    "tabela_irrelevantes = serie_irrelevantes.value_counts(True)\n",
    "tabela_irrelevantes"
   ]
  },
  {
   "cell_type": "code",
   "execution_count": 49,
   "metadata": {},
   "outputs": [
    {
     "data": {
      "text/plain": [
       "fifa                     0.065070\n",
       "21                       0.055609\n",
       "que                      0.019309\n",
       "com                      0.012358\n",
       "live                     0.010813\n",
       "                           ...   \n",
       "vs                       0.000193\n",
       "treinamentos             0.000193\n",
       "des                      0.000193\n",
       "https//tco/hrujdgz41s    0.000193\n",
       "https//tco/nnr5ruwxdf    0.000193\n",
       "Length: 1929, dtype: float64"
      ]
     },
     "execution_count": 49,
     "metadata": {},
     "output_type": "execute_result"
    }
   ],
   "source": [
    "#Todos os tweets:\n",
    "serie_p = pd.Series(lista_p)\n",
    "tabela_p = serie_p.value_counts(True)\n",
    "tabela_p"
   ]
  },
  {
   "cell_type": "code",
   "execution_count": 50,
   "metadata": {},
   "outputs": [],
   "source": [
    "#𝑃(𝑓𝑟𝑎𝑠𝑒|𝐶)=𝑃(𝑐𝑜𝑛𝑡𝑜𝑢|𝐶)⋅𝑃(𝑞𝑢𝑒|𝐶)⋅𝑃(𝑗𝑜ã𝑜|𝐶)⋅𝑃(𝑐𝑜𝑚𝑜|𝐶)⋅𝑃(𝑠𝑎𝑛𝑡𝑜|𝐶)⋅𝑃(𝑠𝑒|𝐶)⋅𝑃(𝑣𝑒𝑟á|𝐶)⋅𝑃(𝑣𝑒𝑠𝑡𝑖𝑑𝑜|𝐶)⋅𝑃(𝑑𝑒|𝐶)⋅...  ...⋅𝑃(𝑚𝑎𝑛𝑒𝑖𝑟𝑎|𝐶)⋅𝑃(𝑞𝑢𝑒|𝐶)⋅𝑃(𝑣𝑖𝑟ã𝑜|𝐶)⋅𝑃(𝑎|𝐶)⋅𝑃(𝑏𝑎𝑟𝑏𝑎|𝐶)⋅𝑃(𝑑𝑜|𝐶)⋅𝑃(𝑚𝑎𝑟𝑖𝑑𝑜|𝐶)"
   ]
  },
  {
   "cell_type": "markdown",
   "metadata": {},
   "source": [
    "___\n",
    "### Verificando a performance do Classificador\n",
    "\n",
    "Agora você deve testar o seu classificador com a base de Testes."
   ]
  },
  {
   "cell_type": "code",
   "execution_count": 51,
   "metadata": {},
   "outputs": [],
   "source": [
    "def classificador(t):\n",
    "    t = cleanup(t.lower())\n",
    "    t_lista = t.split()\n",
    "    probFraseDadoR = 1\n",
    "    probFraseDadoIR = 1\n",
    "    lista_stopwords=['e','do','é','o','a','as','na','no','de','da',]\n",
    "    for e in t_lista:\n",
    "        if e in lista_stopwords:\n",
    "            t_lista.remove(e)\n",
    "    for p in t_lista:\n",
    "        if p in tabela_relevantes:\n",
    "            probFraseDadoR = probFraseDadoR * tabela_relevantes[p]\n",
    "        if p in tabela_irrelevantes:\n",
    "            probFraseDadoIR = probFraseDadoIR * tabela_irrelevantes[p]\n",
    "        elif p not in tabela_relevantes:\n",
    "            probFraseDadoR = probFraseDadoR * 0.00001\n",
    "        elif p not in tabela_irrelevantes:\n",
    "            probFraseDadoIR = probFraseDadoIR * 0.00001\n",
    "        else:\n",
    "            probFraseDadoIR = probFraseDadoIR * 1\n",
    "    if probFraseDadoR > probFraseDadoIR:\n",
    "        return 1\n",
    "        \n",
    "    else:\n",
    "        return 0"
   ]
  },
  {
   "cell_type": "code",
   "execution_count": 52,
   "metadata": {},
   "outputs": [
    {
     "data": {
      "text/html": [
       "<div>\n",
       "<style scoped>\n",
       "    .dataframe tbody tr th:only-of-type {\n",
       "        vertical-align: middle;\n",
       "    }\n",
       "\n",
       "    .dataframe tbody tr th {\n",
       "        vertical-align: top;\n",
       "    }\n",
       "\n",
       "    .dataframe thead th {\n",
       "        text-align: right;\n",
       "    }\n",
       "</style>\n",
       "<table border=\"1\" class=\"dataframe\">\n",
       "  <thead>\n",
       "    <tr style=\"text-align: right;\">\n",
       "      <th></th>\n",
       "      <th>Teste</th>\n",
       "      <th>RELEVÂNCIA</th>\n",
       "    </tr>\n",
       "  </thead>\n",
       "  <tbody>\n",
       "    <tr>\n",
       "      <th>0</th>\n",
       "      <td>confira minha transmissão do meu playstation 4...</td>\n",
       "      <td>0</td>\n",
       "    </tr>\n",
       "    <tr>\n",
       "      <th>1</th>\n",
       "      <td>confira minha transmissão do meu playstation 4...</td>\n",
       "      <td>0</td>\n",
       "    </tr>\n",
       "    <tr>\n",
       "      <th>2</th>\n",
       "      <td>fifa 21 - modo carreira</td>\n",
       "      <td>0</td>\n",
       "    </tr>\n",
       "    <tr>\n",
       "      <th>3</th>\n",
       "      <td>ao vivo o cruzeiro brigando para voltar a elit...</td>\n",
       "      <td>0</td>\n",
       "    </tr>\n",
       "    <tr>\n",
       "      <th>4</th>\n",
       "      <td>https://t.co/prlbdjigeq</td>\n",
       "      <td>0</td>\n",
       "    </tr>\n",
       "  </tbody>\n",
       "</table>\n",
       "</div>"
      ],
      "text/plain": [
       "                                               Teste  RELEVÂNCIA\n",
       "0  confira minha transmissão do meu playstation 4...           0\n",
       "1  confira minha transmissão do meu playstation 4...           0\n",
       "2                            fifa 21 - modo carreira           0\n",
       "3  ao vivo o cruzeiro brigando para voltar a elit...           0\n",
       "4                            https://t.co/prlbdjigeq           0"
      ]
     },
     "execution_count": 52,
     "metadata": {},
     "output_type": "execute_result"
    }
   ],
   "source": [
    "test.head()"
   ]
  },
  {
   "cell_type": "code",
   "execution_count": 53,
   "metadata": {},
   "outputs": [
    {
     "data": {
      "text/html": [
       "<div>\n",
       "<style scoped>\n",
       "    .dataframe tbody tr th:only-of-type {\n",
       "        vertical-align: middle;\n",
       "    }\n",
       "\n",
       "    .dataframe tbody tr th {\n",
       "        vertical-align: top;\n",
       "    }\n",
       "\n",
       "    .dataframe thead th {\n",
       "        text-align: right;\n",
       "    }\n",
       "</style>\n",
       "<table border=\"1\" class=\"dataframe\">\n",
       "  <thead>\n",
       "    <tr style=\"text-align: right;\">\n",
       "      <th></th>\n",
       "      <th>Teste</th>\n",
       "      <th>RELEVÂNCIA</th>\n",
       "      <th>classificador</th>\n",
       "    </tr>\n",
       "  </thead>\n",
       "  <tbody>\n",
       "    <tr>\n",
       "      <th>0</th>\n",
       "      <td>confira minha transmissão do meu playstation 4...</td>\n",
       "      <td>0</td>\n",
       "      <td>0</td>\n",
       "    </tr>\n",
       "    <tr>\n",
       "      <th>1</th>\n",
       "      <td>confira minha transmissão do meu playstation 4...</td>\n",
       "      <td>0</td>\n",
       "      <td>0</td>\n",
       "    </tr>\n",
       "    <tr>\n",
       "      <th>2</th>\n",
       "      <td>fifa 21 - modo carreira</td>\n",
       "      <td>0</td>\n",
       "      <td>0</td>\n",
       "    </tr>\n",
       "    <tr>\n",
       "      <th>3</th>\n",
       "      <td>ao vivo o cruzeiro brigando para voltar a elit...</td>\n",
       "      <td>0</td>\n",
       "      <td>1</td>\n",
       "    </tr>\n",
       "    <tr>\n",
       "      <th>4</th>\n",
       "      <td>https://t.co/prlbdjigeq</td>\n",
       "      <td>0</td>\n",
       "      <td>0</td>\n",
       "    </tr>\n",
       "  </tbody>\n",
       "</table>\n",
       "</div>"
      ],
      "text/plain": [
       "                                               Teste  RELEVÂNCIA  \\\n",
       "0  confira minha transmissão do meu playstation 4...           0   \n",
       "1  confira minha transmissão do meu playstation 4...           0   \n",
       "2                            fifa 21 - modo carreira           0   \n",
       "3  ao vivo o cruzeiro brigando para voltar a elit...           0   \n",
       "4                            https://t.co/prlbdjigeq           0   \n",
       "\n",
       "   classificador  \n",
       "0              0  \n",
       "1              0  \n",
       "2              0  \n",
       "3              1  \n",
       "4              0  "
      ]
     },
     "execution_count": 53,
     "metadata": {},
     "output_type": "execute_result"
    }
   ],
   "source": [
    "lista_clas = []\n",
    "for tw in test['Teste']:\n",
    "    clas = classificador(tw)\n",
    "    lista_clas.append(clas)\n",
    "test['classificador'] = lista_clas\n",
    "test.head(5)"
   ]
  },
  {
   "cell_type": "code",
   "execution_count": 54,
   "metadata": {},
   "outputs": [],
   "source": [
    "lista_clas = []\n",
    "lista_rev = []\n",
    "for e in test['classificador']:\n",
    "    lista_clas.append(e)\n",
    "for e in test['RELEVÂNCIA']:\n",
    "    lista_rev.append(e)\n",
    "i = 0\n",
    "vv = 0\n",
    "vf = 0\n",
    "fv = 0\n",
    "ff = 0\n",
    "a = 0\n",
    "while i < len(lista_clas):\n",
    "    if (lista_clas[i] == 1) and (lista_rev[i] == 1):\n",
    "        vv += 1\n",
    "        a += 1\n",
    "    elif (lista_clas[i] == 1) and (lista_rev[i] == 0):\n",
    "        vf += 1\n",
    "    elif (lista_clas[i] == 0) and (lista_rev[i] == 1):\n",
    "        fv += 1\n",
    "    elif (lista_clas[i] == 0) and (lista_rev[i] == 0):\n",
    "        ff += 1\n",
    "        a += 1\n",
    "    i += 1"
   ]
  },
  {
   "cell_type": "code",
   "execution_count": 55,
   "metadata": {},
   "outputs": [
    {
     "name": "stdout",
     "output_type": "stream",
     "text": [
      "8.0\n",
      "21.5\n",
      "21.0\n",
      "49.5\n",
      "57.49999999999999\n"
     ]
    }
   ],
   "source": [
    "pvv = (vv/200)*100\n",
    "pvf = (vf/200)*100\n",
    "pfv = (fv/200)*100\n",
    "pff = (ff/200)*100\n",
    "pa = (a/200)*100\n",
    "print(pvv)\n",
    "print(pvf)\n",
    "print(pfv)\n",
    "print(pff)\n",
    "print(pa)"
   ]
  },
  {
   "cell_type": "markdown",
   "metadata": {},
   "source": [
    "___\n",
    "### Concluindo"
   ]
  },
  {
   "cell_type": "markdown",
   "metadata": {},
   "source": [
    "   A partir das porcentagens obtidas na célula anterior, podemos concluir que houve uma taxa maior de acertos (57,5%) do que de classificações equivocadas (42,5%). Ou seja, mesmo que o classificador feito não seja ideal e tenha mostrado um relevante número de verdadeiros falsos/falsos verdadeiros, pode-se dizer que cumpriu sua função de classificar a corretamente a maioria dos tweets analisados.     \n",
    "    \n",
    "   Entrando em casos mais específicos de tweets, como os de dupla negação e sarcasmo, será a comparação \n",
    "das palavras contidas nessas frases com a classificadas provenientes da lista de treinamento que \n",
    "gerará o valor representativo final(1 ou 0) de acordo com sua relevância. Isso quer dizer que o sentido \n",
    "dos tweets nesses casos não será levado em consideração, justamente pelo fato do classificador fazer sua análise\n",
    "a partir de aparições de palavras, e não seus significados.\n",
    "    \n",
    "   Sobre a base de treinamento, esta não pode ser alimentada automaticamente pelo classificador pois como\n",
    "comentado anteriormente, há uma relevante taxa de erro nos resultados do mesmo. Assim, o ideal seria aumentar a \n",
    "base manual de treinamento, para que dessa forma, sejamos capaz de construir um classificador mais eficiente em\n",
    "sua análise.\n",
    "      \n",
    "   Idealmente, com um financiamento adequado seria possível criar uma base de dados com classificação manual \n",
    "da relevância grande o bastante para que se tenha um número suficiente de dados confiaveis que possibilite o \n",
    "classificador a ter uma acurácia maior. Além disso, é vital que continuem investindo em nossso projeto para que\n",
    "implementemos melhorias como: TF-IDF, n-grams,...\n",
    "\n",
    "   O método de classificação Naïve Bayes ainda poderia ser aplicado em diversos outros cenários de aprendizado de máquina, como por exemplo, uma análise com relação à probabilidade de uma pessoa ter contraido COVID-19 baseado nas pessoas que moram em sua região.\n",
    "\n",
    "\n",
    "\n",
    "\n",
    "\n",
    "\n",
    "\n"
   ]
  },
  {
   "cell_type": "code",
   "execution_count": null,
   "metadata": {},
   "outputs": [],
   "source": []
  },
  {
   "cell_type": "markdown",
   "metadata": {},
   "source": [
    "___\n",
    "### Qualidade do Classificador a partir de novas separações dos tweets entre Treinamento e Teste\n",
    "\n",
    "Caso for fazer esse item do Projeto"
   ]
  },
  {
   "cell_type": "code",
   "execution_count": null,
   "metadata": {},
   "outputs": [],
   "source": []
  },
  {
   "cell_type": "code",
   "execution_count": null,
   "metadata": {},
   "outputs": [],
   "source": []
  },
  {
   "cell_type": "code",
   "execution_count": null,
   "metadata": {},
   "outputs": [],
   "source": []
  },
  {
   "cell_type": "markdown",
   "metadata": {},
   "source": [
    "___\n",
    "## Aperfeiçoamento:\n",
    "\n",
    "Trabalhos que conseguirem pelo menos conceito B vão evoluir em conceito dependendo da quantidade de itens avançados:\n",
    "\n",
    "* IMPLEMENTOU outras limpezas e transformações que não afetem a qualidade da informação contida nos tweets. Ex: stemming, lemmatization, stopwords\n",
    "* CORRIGIU separação de espaços entre palavras e emojis ou entre emojis e emojis\n",
    "* CRIOU categorias intermediárias de relevância baseadas na probabilidade: ex.: muito relevante, relevante, neutro, irrelevante, muito irrelevante. Pelo menos quatro categorias, com adição de mais tweets na base, conforme enunciado. (OBRIGATÓRIO PARA TRIOS, sem contar como item avançado)\n",
    "* EXPLICOU porquê não pode usar o próprio classificador para gerar mais amostras de treinamento\n",
    "* PROPÔS diferentes cenários para Naïve Bayes fora do contexto do projeto\n",
    "* SUGERIU e EXPLICOU melhorias reais com indicações concretas de como implementar (indicar como fazer e indicar material de pesquisa)\n",
    "* FEZ o item 6. Qualidade do Classificador a partir de novas separações dos tweets entre Treinamento e Teste descrito no enunciado do projeto (OBRIGATÓRIO para conceitos A ou A+)"
   ]
  },
  {
   "cell_type": "code",
   "execution_count": 59,
   "metadata": {},
   "outputs": [],
   "source": [
    "#FEITO: EXPLICOU porquê não pode usar o próprio classificador para gerar mais amostras de treinamento(no texto acima)\n",
    "#FEITO: IMPLEMENTOU outras limpezas e transformações que não afetem a qualidade da informação contida nos tweets.(limpamos stopwords)\n",
    "#FEITO: PROPÔS diferentes cenários para Naïve Bayes fora do contexto do projeto (no texto acima)\n",
    "                                    "
   ]
  },
  {
   "cell_type": "markdown",
   "metadata": {},
   "source": [
    "___\n",
    "## Referências"
   ]
  },
  {
   "cell_type": "markdown",
   "metadata": {},
   "source": [
    "[Naive Bayes and Text Classification](https://arxiv.org/pdf/1410.5329.pdf)  **Mais completo**\n",
    "\n",
    "[A practical explanation of a Naive Bayes Classifier](https://monkeylearn.com/blog/practical-explanation-naive-bayes-classifier/) **Mais simples**"
   ]
  },
  {
   "cell_type": "code",
   "execution_count": null,
   "metadata": {},
   "outputs": [],
   "source": []
  }
 ],
 "metadata": {
  "kernelspec": {
   "display_name": "Python 3",
   "language": "python",
   "name": "python3"
  },
  "language_info": {
   "codemirror_mode": {
    "name": "ipython",
    "version": 3
   },
   "file_extension": ".py",
   "mimetype": "text/x-python",
   "name": "python",
   "nbconvert_exporter": "python",
   "pygments_lexer": "ipython3",
   "version": "3.8.5"
  }
 },
 "nbformat": 4,
 "nbformat_minor": 4
}
